{
 "cells": [
  {
   "cell_type": "code",
   "execution_count": 1,
   "id": "a32ac41b",
   "metadata": {},
   "outputs": [],
   "source": [
    "import pandas as pd\n",
    "import os\n",
    "import cv2\n",
    "\n",
    "from tensorflow.keras.preprocessing import image\n",
    "from tensorflow.keras.preprocessing.image import ImageDataGenerator\n",
    "from tensorflow.keras.models import Sequential\n",
    "from tensorflow.keras.layers import Conv2D, MaxPooling2D\n",
    "from tensorflow.keras.layers import Activation, Dropout, Flatten, Dense,BatchNormalization\n",
    "from tensorflow.keras.optimizers import Adam"
   ]
  },
  {
   "cell_type": "code",
   "execution_count": 2,
   "id": "209f3007",
   "metadata": {},
   "outputs": [],
   "source": [
    "path=\"train/\"\n",
    "lst = os.listdir(path)"
   ]
  },
  {
   "cell_type": "code",
   "execution_count": 3,
   "id": "49f9f72e",
   "metadata": {},
   "outputs": [],
   "source": [
    "df = pd.DataFrame(lst,columns=[\"Images\"])"
   ]
  },
  {
   "cell_type": "code",
   "execution_count": 4,
   "id": "23c042ee",
   "metadata": {},
   "outputs": [
    {
     "data": {
      "text/html": [
       "<div>\n",
       "<style scoped>\n",
       "    .dataframe tbody tr th:only-of-type {\n",
       "        vertical-align: middle;\n",
       "    }\n",
       "\n",
       "    .dataframe tbody tr th {\n",
       "        vertical-align: top;\n",
       "    }\n",
       "\n",
       "    .dataframe thead th {\n",
       "        text-align: right;\n",
       "    }\n",
       "</style>\n",
       "<table border=\"1\" class=\"dataframe\">\n",
       "  <thead>\n",
       "    <tr style=\"text-align: right;\">\n",
       "      <th></th>\n",
       "      <th>Images</th>\n",
       "    </tr>\n",
       "  </thead>\n",
       "  <tbody>\n",
       "    <tr>\n",
       "      <th>0</th>\n",
       "      <td>cat.0.jpg</td>\n",
       "    </tr>\n",
       "    <tr>\n",
       "      <th>1</th>\n",
       "      <td>cat.1.jpg</td>\n",
       "    </tr>\n",
       "    <tr>\n",
       "      <th>2</th>\n",
       "      <td>cat.10.jpg</td>\n",
       "    </tr>\n",
       "    <tr>\n",
       "      <th>3</th>\n",
       "      <td>cat.100.jpg</td>\n",
       "    </tr>\n",
       "    <tr>\n",
       "      <th>4</th>\n",
       "      <td>cat.1000.jpg</td>\n",
       "    </tr>\n",
       "  </tbody>\n",
       "</table>\n",
       "</div>"
      ],
      "text/plain": [
       "         Images\n",
       "0     cat.0.jpg\n",
       "1     cat.1.jpg\n",
       "2    cat.10.jpg\n",
       "3   cat.100.jpg\n",
       "4  cat.1000.jpg"
      ]
     },
     "execution_count": 4,
     "metadata": {},
     "output_type": "execute_result"
    }
   ],
   "source": [
    "df.head()"
   ]
  },
  {
   "cell_type": "code",
   "execution_count": 5,
   "id": "3111e7bc",
   "metadata": {},
   "outputs": [
    {
     "data": {
      "text/plain": [
       "(25000, 1)"
      ]
     },
     "execution_count": 5,
     "metadata": {},
     "output_type": "execute_result"
    }
   ],
   "source": [
    "df.shape"
   ]
  },
  {
   "cell_type": "code",
   "execution_count": 6,
   "id": "0451336e",
   "metadata": {},
   "outputs": [],
   "source": [
    "# labelling data using simple for loop"
   ]
  },
  {
   "cell_type": "code",
   "execution_count": 7,
   "id": "99e350eb",
   "metadata": {},
   "outputs": [],
   "source": [
    "lab = []\n",
    "for i in df['Images']:\n",
    "    if i.startswith(\"cat\"):\n",
    "        lab.append(1)\n",
    "    else:\n",
    "        lab.append(2)"
   ]
  },
  {
   "cell_type": "code",
   "execution_count": 8,
   "id": "85e0ee37",
   "metadata": {},
   "outputs": [
    {
     "data": {
      "text/plain": [
       "25000"
      ]
     },
     "execution_count": 8,
     "metadata": {},
     "output_type": "execute_result"
    }
   ],
   "source": [
    "len(lab)"
   ]
  },
  {
   "cell_type": "code",
   "execution_count": 9,
   "id": "632aaba3",
   "metadata": {},
   "outputs": [],
   "source": [
    "# labelling data using list comprehension"
   ]
  },
  {
   "cell_type": "code",
   "execution_count": 10,
   "id": "f2716116",
   "metadata": {},
   "outputs": [
    {
     "data": {
      "text/plain": [
       "25000"
      ]
     },
     "execution_count": 10,
     "metadata": {},
     "output_type": "execute_result"
    }
   ],
   "source": [
    "lab1=[1 if x.startswith(\"cat\") else 2 for x in df[\"Images\"] ]\n",
    "len(lab1)"
   ]
  },
  {
   "cell_type": "code",
   "execution_count": 11,
   "id": "8fd0a29d",
   "metadata": {},
   "outputs": [],
   "source": [
    "# labelling data using map and lambda"
   ]
  },
  {
   "cell_type": "code",
   "execution_count": 12,
   "id": "e3a6a933",
   "metadata": {},
   "outputs": [],
   "source": [
    "lab2= map(lambda x:[\"dog\",\"cat\"][x.startswith(\"cat\")],df[\"Images\"])\n",
    "labels= list(lab2)"
   ]
  },
  {
   "cell_type": "code",
   "execution_count": 13,
   "id": "aae47cfa",
   "metadata": {},
   "outputs": [
    {
     "data": {
      "text/plain": [
       "25000"
      ]
     },
     "execution_count": 13,
     "metadata": {},
     "output_type": "execute_result"
    }
   ],
   "source": [
    "len(labels)"
   ]
  },
  {
   "cell_type": "code",
   "execution_count": 14,
   "id": "ae9bf156",
   "metadata": {},
   "outputs": [],
   "source": [
    "# defining data and labels"
   ]
  },
  {
   "cell_type": "code",
   "execution_count": 15,
   "id": "95753c2f",
   "metadata": {},
   "outputs": [
    {
     "data": {
      "text/html": [
       "<div>\n",
       "<style scoped>\n",
       "    .dataframe tbody tr th:only-of-type {\n",
       "        vertical-align: middle;\n",
       "    }\n",
       "\n",
       "    .dataframe tbody tr th {\n",
       "        vertical-align: top;\n",
       "    }\n",
       "\n",
       "    .dataframe thead th {\n",
       "        text-align: right;\n",
       "    }\n",
       "</style>\n",
       "<table border=\"1\" class=\"dataframe\">\n",
       "  <thead>\n",
       "    <tr style=\"text-align: right;\">\n",
       "      <th></th>\n",
       "      <th>Images</th>\n",
       "      <th>labels</th>\n",
       "    </tr>\n",
       "  </thead>\n",
       "  <tbody>\n",
       "    <tr>\n",
       "      <th>0</th>\n",
       "      <td>cat.0.jpg</td>\n",
       "      <td>cat</td>\n",
       "    </tr>\n",
       "    <tr>\n",
       "      <th>1</th>\n",
       "      <td>cat.1.jpg</td>\n",
       "      <td>cat</td>\n",
       "    </tr>\n",
       "    <tr>\n",
       "      <th>2</th>\n",
       "      <td>cat.10.jpg</td>\n",
       "      <td>cat</td>\n",
       "    </tr>\n",
       "    <tr>\n",
       "      <th>3</th>\n",
       "      <td>cat.100.jpg</td>\n",
       "      <td>cat</td>\n",
       "    </tr>\n",
       "    <tr>\n",
       "      <th>4</th>\n",
       "      <td>cat.1000.jpg</td>\n",
       "      <td>cat</td>\n",
       "    </tr>\n",
       "  </tbody>\n",
       "</table>\n",
       "</div>"
      ],
      "text/plain": [
       "         Images labels\n",
       "0     cat.0.jpg    cat\n",
       "1     cat.1.jpg    cat\n",
       "2    cat.10.jpg    cat\n",
       "3   cat.100.jpg    cat\n",
       "4  cat.1000.jpg    cat"
      ]
     },
     "execution_count": 15,
     "metadata": {},
     "output_type": "execute_result"
    }
   ],
   "source": [
    "df['labels']=labels\n",
    "df.head()"
   ]
  },
  {
   "cell_type": "code",
   "execution_count": 16,
   "id": "a15c851a",
   "metadata": {},
   "outputs": [
    {
     "data": {
      "text/html": [
       "<div>\n",
       "<style scoped>\n",
       "    .dataframe tbody tr th:only-of-type {\n",
       "        vertical-align: middle;\n",
       "    }\n",
       "\n",
       "    .dataframe tbody tr th {\n",
       "        vertical-align: top;\n",
       "    }\n",
       "\n",
       "    .dataframe thead th {\n",
       "        text-align: right;\n",
       "    }\n",
       "</style>\n",
       "<table border=\"1\" class=\"dataframe\">\n",
       "  <thead>\n",
       "    <tr style=\"text-align: right;\">\n",
       "      <th></th>\n",
       "      <th>Images</th>\n",
       "      <th>labels</th>\n",
       "    </tr>\n",
       "  </thead>\n",
       "  <tbody>\n",
       "    <tr>\n",
       "      <th>24995</th>\n",
       "      <td>dog.9995.jpg</td>\n",
       "      <td>dog</td>\n",
       "    </tr>\n",
       "    <tr>\n",
       "      <th>24996</th>\n",
       "      <td>dog.9996.jpg</td>\n",
       "      <td>dog</td>\n",
       "    </tr>\n",
       "    <tr>\n",
       "      <th>24997</th>\n",
       "      <td>dog.9997.jpg</td>\n",
       "      <td>dog</td>\n",
       "    </tr>\n",
       "    <tr>\n",
       "      <th>24998</th>\n",
       "      <td>dog.9998.jpg</td>\n",
       "      <td>dog</td>\n",
       "    </tr>\n",
       "    <tr>\n",
       "      <th>24999</th>\n",
       "      <td>dog.9999.jpg</td>\n",
       "      <td>dog</td>\n",
       "    </tr>\n",
       "  </tbody>\n",
       "</table>\n",
       "</div>"
      ],
      "text/plain": [
       "             Images labels\n",
       "24995  dog.9995.jpg    dog\n",
       "24996  dog.9996.jpg    dog\n",
       "24997  dog.9997.jpg    dog\n",
       "24998  dog.9998.jpg    dog\n",
       "24999  dog.9999.jpg    dog"
      ]
     },
     "execution_count": 16,
     "metadata": {},
     "output_type": "execute_result"
    }
   ],
   "source": [
    "df.tail()"
   ]
  },
  {
   "cell_type": "code",
   "execution_count": 17,
   "id": "b324c1c3",
   "metadata": {},
   "outputs": [],
   "source": [
    "# shuflling the data set"
   ]
  },
  {
   "cell_type": "code",
   "execution_count": 18,
   "id": "b76f8bbe",
   "metadata": {},
   "outputs": [],
   "source": [
    "df = df.sample(frac=1).reset_index(drop=True)"
   ]
  },
  {
   "cell_type": "code",
   "execution_count": 19,
   "id": "14f37125",
   "metadata": {},
   "outputs": [
    {
     "data": {
      "text/html": [
       "<div>\n",
       "<style scoped>\n",
       "    .dataframe tbody tr th:only-of-type {\n",
       "        vertical-align: middle;\n",
       "    }\n",
       "\n",
       "    .dataframe tbody tr th {\n",
       "        vertical-align: top;\n",
       "    }\n",
       "\n",
       "    .dataframe thead th {\n",
       "        text-align: right;\n",
       "    }\n",
       "</style>\n",
       "<table border=\"1\" class=\"dataframe\">\n",
       "  <thead>\n",
       "    <tr style=\"text-align: right;\">\n",
       "      <th></th>\n",
       "      <th>Images</th>\n",
       "      <th>labels</th>\n",
       "    </tr>\n",
       "  </thead>\n",
       "  <tbody>\n",
       "    <tr>\n",
       "      <th>0</th>\n",
       "      <td>cat.4994.jpg</td>\n",
       "      <td>cat</td>\n",
       "    </tr>\n",
       "    <tr>\n",
       "      <th>1</th>\n",
       "      <td>dog.8916.jpg</td>\n",
       "      <td>dog</td>\n",
       "    </tr>\n",
       "    <tr>\n",
       "      <th>2</th>\n",
       "      <td>dog.4291.jpg</td>\n",
       "      <td>dog</td>\n",
       "    </tr>\n",
       "    <tr>\n",
       "      <th>3</th>\n",
       "      <td>cat.9727.jpg</td>\n",
       "      <td>cat</td>\n",
       "    </tr>\n",
       "    <tr>\n",
       "      <th>4</th>\n",
       "      <td>dog.5395.jpg</td>\n",
       "      <td>dog</td>\n",
       "    </tr>\n",
       "  </tbody>\n",
       "</table>\n",
       "</div>"
      ],
      "text/plain": [
       "         Images labels\n",
       "0  cat.4994.jpg    cat\n",
       "1  dog.8916.jpg    dog\n",
       "2  dog.4291.jpg    dog\n",
       "3  cat.9727.jpg    cat\n",
       "4  dog.5395.jpg    dog"
      ]
     },
     "execution_count": 19,
     "metadata": {},
     "output_type": "execute_result"
    }
   ],
   "source": [
    "df.head()"
   ]
  },
  {
   "cell_type": "code",
   "execution_count": 20,
   "id": "95d1890e",
   "metadata": {},
   "outputs": [
    {
     "data": {
      "text/plain": [
       "(25000, 2)"
      ]
     },
     "execution_count": 20,
     "metadata": {},
     "output_type": "execute_result"
    }
   ],
   "source": [
    "df.shape"
   ]
  },
  {
   "cell_type": "code",
   "execution_count": 21,
   "id": "ba2dd87e",
   "metadata": {},
   "outputs": [],
   "source": [
    "train_df= df[0:20000] \n",
    "valid_df= df[20000:]"
   ]
  },
  {
   "cell_type": "code",
   "execution_count": 22,
   "id": "62000708",
   "metadata": {},
   "outputs": [
    {
     "name": "stdout",
     "output_type": "stream",
     "text": [
      " training data shape (20000, 2)\n",
      " testing data shape (5000, 2)\n"
     ]
    }
   ],
   "source": [
    "print(\" training data shape {}\".format(train_df.shape))\n",
    "print(\" testing data shape {}\".format(valid_df.shape))\n"
   ]
  },
  {
   "cell_type": "code",
   "execution_count": 23,
   "id": "4cecf1c1",
   "metadata": {},
   "outputs": [],
   "source": [
    "train_datagen = ImageDataGenerator(\n",
    "    rescale=1./255,\n",
    "    shear_range=0.2,\n",
    "    zoom_range=0.2,\n",
    "    horizontal_flip=True)"
   ]
  },
  {
   "cell_type": "code",
   "execution_count": 25,
   "id": "c0f59ac7",
   "metadata": {},
   "outputs": [],
   "source": [
    "img_width, img_height = 128, 128\n",
    "batch_size = 16"
   ]
  },
  {
   "cell_type": "code",
   "execution_count": 26,
   "id": "f79d88db",
   "metadata": {},
   "outputs": [
    {
     "name": "stdout",
     "output_type": "stream",
     "text": [
      "Found 20000 validated image filenames belonging to 2 classes.\n"
     ]
    }
   ],
   "source": [
    "train_generator = train_datagen.flow_from_dataframe(\n",
    "    train_df, \"train/\", \n",
    "    x_col='Images',\n",
    "    y_col='labels',\n",
    "    target_size=(img_width, img_height),\n",
    "    class_mode='categorical',\n",
    "    batch_size=batch_size\n",
    ")"
   ]
  },
  {
   "cell_type": "code",
   "execution_count": 27,
   "id": "507a697f",
   "metadata": {},
   "outputs": [
    {
     "name": "stdout",
     "output_type": "stream",
     "text": [
      "Found 5000 validated image filenames belonging to 2 classes.\n"
     ]
    }
   ],
   "source": [
    "valid_generator = train_datagen.flow_from_dataframe(\n",
    "        valid_df,\"train/\",\n",
    "        x_col=\"Images\",\n",
    "        y_col =\"labels\",\n",
    "        target_size= (img_width, img_height),\n",
    "        class_mode='categorical',\n",
    "        batch_size=batch_size\n",
    "\n",
    ")"
   ]
  },
  {
   "cell_type": "code",
   "execution_count": 28,
   "id": "15ca2045",
   "metadata": {},
   "outputs": [],
   "source": [
    "# modeling cnn"
   ]
  },
  {
   "cell_type": "code",
   "execution_count": 29,
   "id": "6ba61c92",
   "metadata": {},
   "outputs": [],
   "source": [
    "input_shape = (img_width, img_height, 3)"
   ]
  },
  {
   "cell_type": "code",
   "execution_count": 30,
   "id": "2df472e4",
   "metadata": {},
   "outputs": [],
   "source": [
    "model = Sequential()\n",
    "model.add(Conv2D(32,(3, 3),activation='relu',kernel_initializer='he_uniform',input_shape=input_shape))\n",
    "model.add(MaxPooling2D(pool_size=(2, 2)))\n",
    "model.add(Dropout(0.25))\n",
    "\n",
    "model.add(Conv2D(64,(3, 3),activation='relu'))\n",
    "model.add(BatchNormalization())\n",
    "model.add(MaxPooling2D(pool_size=(2, 2)))\n",
    "model.add(Dropout(0.25))\n",
    "\n",
    "model.add(Conv2D(128, (3, 3),activation='relu'))\n",
    "model.add(MaxPooling2D(pool_size=(2, 2)))\n",
    "\n",
    "model.add(Flatten())\n",
    "model.add(Dense(64,activation='relu'))\n",
    "model.add(Dropout(0.5))\n",
    "model.add(Dense(2,activation=\"softmax\"))"
   ]
  },
  {
   "cell_type": "code",
   "execution_count": 31,
   "id": "bef58293",
   "metadata": {},
   "outputs": [
    {
     "name": "stdout",
     "output_type": "stream",
     "text": [
      "Model: \"sequential\"\n",
      "_________________________________________________________________\n",
      "Layer (type)                 Output Shape              Param #   \n",
      "=================================================================\n",
      "conv2d (Conv2D)              (None, 126, 126, 32)      896       \n",
      "_________________________________________________________________\n",
      "max_pooling2d (MaxPooling2D) (None, 63, 63, 32)        0         \n",
      "_________________________________________________________________\n",
      "dropout (Dropout)            (None, 63, 63, 32)        0         \n",
      "_________________________________________________________________\n",
      "conv2d_1 (Conv2D)            (None, 61, 61, 64)        18496     \n",
      "_________________________________________________________________\n",
      "batch_normalization (BatchNo (None, 61, 61, 64)        256       \n",
      "_________________________________________________________________\n",
      "max_pooling2d_1 (MaxPooling2 (None, 30, 30, 64)        0         \n",
      "_________________________________________________________________\n",
      "dropout_1 (Dropout)          (None, 30, 30, 64)        0         \n",
      "_________________________________________________________________\n",
      "conv2d_2 (Conv2D)            (None, 28, 28, 128)       73856     \n",
      "_________________________________________________________________\n",
      "max_pooling2d_2 (MaxPooling2 (None, 14, 14, 128)       0         \n",
      "_________________________________________________________________\n",
      "flatten (Flatten)            (None, 25088)             0         \n",
      "_________________________________________________________________\n",
      "dense (Dense)                (None, 64)                1605696   \n",
      "_________________________________________________________________\n",
      "dropout_2 (Dropout)          (None, 64)                0         \n",
      "_________________________________________________________________\n",
      "dense_1 (Dense)              (None, 2)                 130       \n",
      "=================================================================\n",
      "Total params: 1,699,330\n",
      "Trainable params: 1,699,202\n",
      "Non-trainable params: 128\n",
      "_________________________________________________________________\n"
     ]
    }
   ],
   "source": [
    "model.summary()"
   ]
  },
  {
   "cell_type": "code",
   "execution_count": 33,
   "id": "c79e75a3",
   "metadata": {},
   "outputs": [],
   "source": [
    "model.compile(loss='categorical_crossentropy',\n",
    "              optimizer=\"Adam\",\n",
    "              metrics=['accuracy'])"
   ]
  },
  {
   "cell_type": "code",
   "execution_count": 37,
   "id": "a203d498",
   "metadata": {},
   "outputs": [],
   "source": [
    "total_train=train_df.shape[0]\n",
    "total_validate=valid_df.shape[0]\n",
    "epochs = 20"
   ]
  },
  {
   "cell_type": "code",
   "execution_count": 38,
   "id": "6209d93c",
   "metadata": {},
   "outputs": [
    {
     "name": "stdout",
     "output_type": "stream",
     "text": [
      "WARNING:tensorflow:From <ipython-input-38-12753d663f5f>:1: Model.fit_generator (from tensorflow.python.keras.engine.training) is deprecated and will be removed in a future version.\n",
      "Instructions for updating:\n",
      "Please use Model.fit, which supports generators.\n",
      "Epoch 1/20\n",
      "1250/1250 [==============================] - 427s 342ms/step - loss: 0.7579 - accuracy: 0.5702 - val_loss: 0.7027 - val_accuracy: 0.5980\n",
      "Epoch 2/20\n",
      "1250/1250 [==============================] - 415s 332ms/step - loss: 0.6107 - accuracy: 0.6604 - val_loss: 0.6004 - val_accuracy: 0.6703\n",
      "Epoch 3/20\n",
      "1250/1250 [==============================] - 404s 323ms/step - loss: 0.5780 - accuracy: 0.6949 - val_loss: 0.5770 - val_accuracy: 0.6839\n",
      "Epoch 4/20\n",
      "1250/1250 [==============================] - 404s 323ms/step - loss: 0.5390 - accuracy: 0.7341 - val_loss: 0.5271 - val_accuracy: 0.7402\n",
      "Epoch 5/20\n",
      "1250/1250 [==============================] - 401s 321ms/step - loss: 0.5094 - accuracy: 0.7549 - val_loss: 0.4560 - val_accuracy: 0.7841\n",
      "Epoch 6/20\n",
      "1250/1250 [==============================] - 401s 321ms/step - loss: 0.4810 - accuracy: 0.7766 - val_loss: 0.4243 - val_accuracy: 0.8051\n",
      "Epoch 7/20\n",
      "1250/1250 [==============================] - 403s 322ms/step - loss: 0.4526 - accuracy: 0.7922 - val_loss: 0.4206 - val_accuracy: 0.8051\n",
      "Epoch 8/20\n",
      "1250/1250 [==============================] - 406s 325ms/step - loss: 0.4353 - accuracy: 0.8047 - val_loss: 0.4232 - val_accuracy: 0.8113\n",
      "Epoch 9/20\n",
      "1250/1250 [==============================] - 401s 321ms/step - loss: 0.4178 - accuracy: 0.8184 - val_loss: 0.3757 - val_accuracy: 0.8425\n",
      "Epoch 10/20\n",
      "1250/1250 [==============================] - 405s 324ms/step - loss: 0.3963 - accuracy: 0.8223 - val_loss: 0.4439 - val_accuracy: 0.8025\n",
      "Epoch 11/20\n",
      "1250/1250 [==============================] - 402s 322ms/step - loss: 0.3899 - accuracy: 0.8309 - val_loss: 0.3441 - val_accuracy: 0.8544\n",
      "Epoch 12/20\n",
      "1250/1250 [==============================] - 401s 321ms/step - loss: 0.3814 - accuracy: 0.8391 - val_loss: 0.3343 - val_accuracy: 0.8604\n",
      "Epoch 13/20\n",
      "1250/1250 [==============================] - 401s 321ms/step - loss: 0.3579 - accuracy: 0.8484 - val_loss: 0.3194 - val_accuracy: 0.8622\n",
      "Epoch 14/20\n",
      "1250/1250 [==============================] - 401s 321ms/step - loss: 0.3566 - accuracy: 0.8508 - val_loss: 0.3649 - val_accuracy: 0.8466\n",
      "Epoch 15/20\n",
      "1250/1250 [==============================] - 402s 321ms/step - loss: 0.3478 - accuracy: 0.8534 - val_loss: 0.4403 - val_accuracy: 0.8307\n",
      "Epoch 16/20\n",
      "1250/1250 [==============================] - 401s 321ms/step - loss: 0.3437 - accuracy: 0.8546 - val_loss: 0.3043 - val_accuracy: 0.8696\n",
      "Epoch 17/20\n",
      "1250/1250 [==============================] - 401s 320ms/step - loss: 0.3446 - accuracy: 0.8561 - val_loss: 0.3302 - val_accuracy: 0.8614\n",
      "Epoch 18/20\n",
      "1250/1250 [==============================] - 402s 321ms/step - loss: 0.3326 - accuracy: 0.8620 - val_loss: 0.4565 - val_accuracy: 0.8351\n",
      "Epoch 19/20\n",
      "1250/1250 [==============================] - 404s 323ms/step - loss: 0.3253 - accuracy: 0.8644 - val_loss: 0.3088 - val_accuracy: 0.8712\n",
      "Epoch 20/20\n",
      "1250/1250 [==============================] - 403s 322ms/step - loss: 0.3177 - accuracy: 0.8659 - val_loss: 0.5703 - val_accuracy: 0.8115\n"
     ]
    },
    {
     "data": {
      "text/plain": [
       "<tensorflow.python.keras.callbacks.History at 0x1c84ffb3bb0>"
      ]
     },
     "execution_count": 38,
     "metadata": {},
     "output_type": "execute_result"
    }
   ],
   "source": [
    "model.fit_generator(\n",
    "    train_generator,\n",
    "    steps_per_epoch=total_train // batch_size,\n",
    "    epochs=epochs,\n",
    "    validation_data=valid_generator,\n",
    "    validation_steps=total_validate // batch_size)"
   ]
  },
  {
   "cell_type": "code",
   "execution_count": 39,
   "id": "6be8c4f3",
   "metadata": {},
   "outputs": [],
   "source": [
    "model.save('final_model.h5')"
   ]
  },
  {
   "cell_type": "code",
   "execution_count": null,
   "id": "cc72ebda",
   "metadata": {},
   "outputs": [],
   "source": []
  }
 ],
 "metadata": {
  "kernelspec": {
   "display_name": "Python 3",
   "language": "python",
   "name": "python3"
  },
  "language_info": {
   "codemirror_mode": {
    "name": "ipython",
    "version": 3
   },
   "file_extension": ".py",
   "mimetype": "text/x-python",
   "name": "python",
   "nbconvert_exporter": "python",
   "pygments_lexer": "ipython3",
   "version": "3.8.8"
  }
 },
 "nbformat": 4,
 "nbformat_minor": 5
}
