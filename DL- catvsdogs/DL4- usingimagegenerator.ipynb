{
 "cells": [
  {
   "cell_type": "code",
   "execution_count": 1,
   "id": "0c1f52bc",
   "metadata": {},
   "outputs": [],
   "source": [
    "import numpy as np\n",
    "from tensorflow.keras.models import Sequential\n",
    "from tensorflow.keras.layers import Conv2D, MaxPooling2D\n",
    "from tensorflow.keras.layers import Activation, Dropout, Flatten, Dense\n",
    "import os\n",
    "\n",
    "from tensorflow.keras.preprocessing.image import ImageDataGenerator\n",
    "from tensorflow.keras.models import Sequential\n",
    "from tensorflow.keras.layers import Conv2D, MaxPooling2D\n",
    "from tensorflow.keras.layers import Activation, Dropout, Flatten, Dense\n",
    "from tensorflow.keras import backend as K"
   ]
  },
  {
   "cell_type": "code",
   "execution_count": 2,
   "id": "7e427e6b",
   "metadata": {},
   "outputs": [],
   "source": [
    "# loading data"
   ]
  },
  {
   "cell_type": "code",
   "execution_count": 22,
   "id": "464f8cec",
   "metadata": {},
   "outputs": [],
   "source": [
    "train_data_dir = 'train/'\n",
    "validation_data_dir = 'test1/'"
   ]
  },
  {
   "cell_type": "code",
   "execution_count": 23,
   "id": "9a26a98b",
   "metadata": {},
   "outputs": [],
   "source": [
    "# using image data generator"
   ]
  },
  {
   "cell_type": "code",
   "execution_count": 24,
   "id": "799f0d26",
   "metadata": {},
   "outputs": [],
   "source": [
    "train_datagen = ImageDataGenerator(\n",
    "    rescale=1. / 255,\n",
    "    shear_range=0.2,\n",
    "    zoom_range=0.2,\n",
    "    horizontal_flip=True)"
   ]
  },
  {
   "cell_type": "code",
   "execution_count": 25,
   "id": "6376a8e9",
   "metadata": {},
   "outputs": [],
   "source": [
    "# only rescaling for test data\n",
    "test_datagen = ImageDataGenerator(rescale=1. / 255)"
   ]
  },
  {
   "cell_type": "code",
   "execution_count": 26,
   "id": "78f089e1",
   "metadata": {},
   "outputs": [],
   "source": [
    "# dimensions and batch for image data gen.\n",
    "img_width, img_height = 150, 150\n",
    "batch_size = 16"
   ]
  },
  {
   "cell_type": "code",
   "execution_count": 27,
   "id": "2bbed417",
   "metadata": {},
   "outputs": [
    {
     "name": "stdout",
     "output_type": "stream",
     "text": [
      "Found 0 images belonging to 0 classes.\n"
     ]
    }
   ],
   "source": [
    "train_generator = train_datagen.flow_from_directory(\n",
    "    train_data_dir,\n",
    "    target_size=(img_width, img_height),\n",
    "    batch_size=batch_size,\n",
    "    class_mode='binary')"
   ]
  },
  {
   "cell_type": "code",
   "execution_count": null,
   "id": "9b151318",
   "metadata": {},
   "outputs": [],
   "source": []
  }
 ],
 "metadata": {
  "kernelspec": {
   "display_name": "Python 3",
   "language": "python",
   "name": "python3"
  },
  "language_info": {
   "codemirror_mode": {
    "name": "ipython",
    "version": 3
   },
   "file_extension": ".py",
   "mimetype": "text/x-python",
   "name": "python",
   "nbconvert_exporter": "python",
   "pygments_lexer": "ipython3",
   "version": "3.8.8"
  }
 },
 "nbformat": 4,
 "nbformat_minor": 5
}
