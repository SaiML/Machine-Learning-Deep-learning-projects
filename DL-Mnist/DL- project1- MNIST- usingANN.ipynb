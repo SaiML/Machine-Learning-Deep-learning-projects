{
 "cells": [
  {
   "cell_type": "code",
   "execution_count": 4,
   "id": "80c32ba1",
   "metadata": {},
   "outputs": [],
   "source": [
    "import numpy as np\n",
    "import matplotlib.pyplot as plt\n",
    "\n",
    "#keras importing\n",
    "from tensorflow.keras import Model\n",
    "from tensorflow.keras.layers import Input, Dense, Flatten, BatchNormalization\n",
    "from tensorflow.keras.layers.experimental.preprocessing import Normalization\n",
    "\n",
    "#dataset\n",
    "from tensorflow.keras.datasets import mnist"
   ]
  },
  {
   "cell_type": "code",
   "execution_count": 5,
   "id": "a5c5ac10",
   "metadata": {},
   "outputs": [],
   "source": [
    "# Loading data"
   ]
  },
  {
   "cell_type": "code",
   "execution_count": 6,
   "id": "d457534f",
   "metadata": {},
   "outputs": [
    {
     "name": "stdout",
     "output_type": "stream",
     "text": [
      "Downloading data from https://storage.googleapis.com/tensorflow/tf-keras-datasets/mnist.npz\n",
      "11493376/11490434 [==============================] - 2s 0us/step\n"
     ]
    }
   ],
   "source": [
    "(X_train, y_train), (X_test, y_test) =mnist.load_data()\n",
    "for data in [X_train, y_train, X_test, y_test]:\n",
    "    data = data/255"
   ]
  },
  {
   "cell_type": "code",
   "execution_count": 22,
   "id": "ca4a95e8",
   "metadata": {},
   "outputs": [],
   "source": [
    "# checking data shapes"
   ]
  },
  {
   "cell_type": "code",
   "execution_count": 23,
   "id": "7aa19dae",
   "metadata": {},
   "outputs": [
    {
     "name": "stdout",
     "output_type": "stream",
     "text": [
      "shape of training data is (60000, 28, 28)\n",
      "shape of testing data is (10000, 28, 28)\n"
     ]
    }
   ],
   "source": [
    "print(\"shape of training data is {}\".format(X_train.shape))\n",
    "print(\"shape of testing data is {}\".format(X_test.shape))"
   ]
  },
  {
   "cell_type": "code",
   "execution_count": 24,
   "id": "5ee36dc1",
   "metadata": {},
   "outputs": [],
   "source": [
    "# checking labels"
   ]
  },
  {
   "cell_type": "code",
   "execution_count": 32,
   "id": "dd1c1c39",
   "metadata": {},
   "outputs": [
    {
     "data": {
      "text/plain": [
       "array([0, 1, 2, 3, 4, 5, 6, 7, 8, 9], dtype=uint8)"
      ]
     },
     "execution_count": 32,
     "metadata": {},
     "output_type": "execute_result"
    }
   ],
   "source": [
    "np.unique(y_train)"
   ]
  },
  {
   "cell_type": "code",
   "execution_count": 33,
   "id": "6f41af8f",
   "metadata": {},
   "outputs": [],
   "source": [
    "# checking input and labels"
   ]
  },
  {
   "cell_type": "code",
   "execution_count": 38,
   "id": "2f93c187",
   "metadata": {},
   "outputs": [
    {
     "data": {
      "image/png": "[encoded data removed]",
      "text/plain": [
       "<Figure size 432x288 with 1 Axes>"
      ]
     },
     "metadata": {
      "needs_background": "light"
     },
     "output_type": "display_data"
    },
    {
     "name": "stdout",
     "output_type": "stream",
     "text": [
      "Label for image: 5\n"
     ]
    }
   ],
   "source": [
    "plt.imshow(X_train[0])\n",
    "plt.show()\n",
    "\n",
    "print(\"Label for image: {}\".format(y_train[0]))"
   ]
  },
  {
   "cell_type": "code",
   "execution_count": 39,
   "id": "457dd851",
   "metadata": {},
   "outputs": [],
   "source": [
    "# defining  model"
   ]
  },
  {
   "cell_type": "code",
   "execution_count": 42,
   "id": "d791e1ad",
   "metadata": {},
   "outputs": [],
   "source": [
    "input_data =  Input((28, 28), name='input')\n",
    "x = Flatten()(input_data)\n",
    "x = Dense(32, activation='relu')(x)\n",
    "x = BatchNormalization()(x)\n",
    "x = Dense(16, activation='relu')(x)\n",
    "x = BatchNormalization()(x)\n",
    "outputs = Dense(10, activation='softmax')(x)\n",
    "\n",
    "model = Model(inputs=input_data, outputs=outputs)"
   ]
  },
  {
   "cell_type": "code",
   "execution_count": 43,
   "id": "a4668877",
   "metadata": {},
   "outputs": [],
   "source": [
    "# compining model"
   ]
  },
  {
   "cell_type": "code",
   "execution_count": 44,
   "id": "04446686",
   "metadata": {},
   "outputs": [],
   "source": [
    "model.compile(optimizer='adam', loss='sparse_categorical_crossentropy', metrics=['accuracy'])"
   ]
  },
  {
   "cell_type": "code",
   "execution_count": 45,
   "id": "8fdcb97d",
   "metadata": {},
   "outputs": [],
   "source": [
    "# tarining"
   ]
  },
  {
   "cell_type": "code",
   "execution_count": 46,
   "id": "9267369b",
   "metadata": {},
   "outputs": [
    {
     "name": "stdout",
     "output_type": "stream",
     "text": [
      "Epoch 1/10\n",
      "938/938 [==============================] - 1s 682us/step - loss: 0.4681 - accuracy: 0.8737\n",
      "Epoch 2/10\n",
      "938/938 [==============================] - 1s 704us/step - loss: 0.1969 - accuracy: 0.9419\n",
      "Epoch 3/10\n",
      "938/938 [==============================] - 1s 663us/step - loss: 0.1562 - accuracy: 0.9536\n",
      "Epoch 4/10\n",
      "938/938 [==============================] - 1s 692us/step - loss: 0.1328 - accuracy: 0.9594\n",
      "Epoch 5/10\n",
      "938/938 [==============================] - 1s 663us/step - loss: 0.1180 - accuracy: 0.9644\n",
      "Epoch 6/10\n",
      "938/938 [==============================] - 1s 660us/step - loss: 0.1060 - accuracy: 0.9677\n",
      "Epoch 7/10\n",
      "938/938 [==============================] - 1s 661us/step - loss: 0.0972 - accuracy: 0.9699\n",
      "Epoch 8/10\n",
      "938/938 [==============================] - 1s 656us/step - loss: 0.0894 - accuracy: 0.9721\n",
      "Epoch 9/10\n",
      "938/938 [==============================] - 1s 696us/step - loss: 0.0850 - accuracy: 0.9734\n",
      "Epoch 10/10\n",
      "938/938 [==============================] - 1s 664us/step - loss: 0.0798 - accuracy: 0.9740\n"
     ]
    },
    {
     "data": {
      "text/plain": [
       "<tensorflow.python.keras.callbacks.History at 0x214abe14910>"
      ]
     },
     "execution_count": 46,
     "metadata": {},
     "output_type": "execute_result"
    }
   ],
   "source": [
    "model.fit(X_train, y_train, batch_size=64, epochs=10)"
   ]
  },
  {
   "cell_type": "code",
   "execution_count": 47,
   "id": "bcb0dae3",
   "metadata": {},
   "outputs": [],
   "source": [
    "# model evaluation"
   ]
  },
  {
   "cell_type": "code",
   "execution_count": 49,
   "id": "50e7c0bf",
   "metadata": {},
   "outputs": [
    {
     "name": "stdout",
     "output_type": "stream",
     "text": [
      "313/313 [==============================] - 0s 391us/step - loss: 0.1108 - accuracy: 0.9676\n"
     ]
    },
    {
     "data": {
      "text/plain": [
       "[0.11075609177350998, 0.9675999879837036]"
      ]
     },
     "execution_count": 49,
     "metadata": {},
     "output_type": "execute_result"
    }
   ],
   "source": [
    "model.evaluate(X_test, y_test)"
   ]
  },
  {
   "cell_type": "code",
   "execution_count": 50,
   "id": "ba954f2b",
   "metadata": {},
   "outputs": [],
   "source": [
    "# testing"
   ]
  },
  {
   "cell_type": "code",
   "execution_count": 51,
   "id": "e43c0640",
   "metadata": {},
   "outputs": [
    {
     "name": "stdout",
     "output_type": "stream",
     "text": [
      "6\n"
     ]
    },
    {
     "data": {
      "text/plain": [
       "<matplotlib.image.AxesImage at 0x214ad5fcc40>"
      ]
     },
     "execution_count": 51,
     "metadata": {},
     "output_type": "execute_result"
    },
    {
     "data": {
      "image/png": "[encoded data removed]",
      "text/plain": [
       "<Figure size 432x288 with 1 Axes>"
      ]
     },
     "metadata": {
      "needs_background": "light"
     },
     "output_type": "display_data"
    }
   ],
   "source": [
    "prediction = model.predict(X_test)[50]\n",
    "print(np.argmax(prediction))\n",
    "plt.imshow(X_test[50], cmap='binary')"
   ]
  },
  {
   "cell_type": "code",
   "execution_count": null,
   "id": "a4faf6fd",
   "metadata": {},
   "outputs": [],
   "source": []
  }
 ],
 "metadata": {
  "kernelspec": {
   "display_name": "Python 3",
   "language": "python",
   "name": "python3"
  },
  "language_info": {
   "codemirror_mode": {
    "name": "ipython",
    "version": 3
   },
   "file_extension": ".py",
   "mimetype": "text/x-python",
   "name": "python",
   "nbconvert_exporter": "python",
   "pygments_lexer": "ipython3",
   "version": "3.8.8"
  }
 },
 "nbformat": 4,
 "nbformat_minor": 5
}
