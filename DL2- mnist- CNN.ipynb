{
 "cells": [
  {
   "cell_type": "code",
   "execution_count": 1,
   "id": "b7837671",
   "metadata": {},
   "outputs": [],
   "source": [
    "import idx2numpy\n",
    "import numpy as np\n",
    "import matplotlib.pyplot as plt\n",
    "from sklearn.model_selection import KFold\n",
    "\n",
    "from tensorflow.keras.utils import to_categorical\n",
    "from tensorflow.keras.preprocessing.image import ImageDataGenerator\n",
    "from tensorflow.keras.models import Sequential\n",
    "from tensorflow.keras.layers import Conv2D, MaxPooling2D,BatchNormalization\n",
    "from tensorflow.keras.layers import Flatten, Dense\n",
    "from tensorflow.keras.optimizers import SGD\n",
    "\n",
    "from tensorflow.keras.preprocessing.image import load_img\n",
    "from tensorflow.keras.preprocessing.image import img_to_array"
   ]
  },
  {
   "cell_type": "code",
   "execution_count": 2,
   "id": "025d3bce",
   "metadata": {},
   "outputs": [],
   "source": [
    "# loading data set"
   ]
  },
  {
   "cell_type": "code",
   "execution_count": 3,
   "id": "b0e532a9",
   "metadata": {},
   "outputs": [],
   "source": [
    "train_data = 'mnist/train-images.idx3-ubyte'\n",
    "train_labels = 'mnist/train-labels.idx1-ubyte'\n",
    "\n",
    "test_data = 'mnist/t10k-images.idx3-ubyte'\n",
    "test_labels= 'mnist/t10k-labels.idx1-ubyte'"
   ]
  },
  {
   "cell_type": "code",
   "execution_count": 4,
   "id": "fd583557",
   "metadata": {},
   "outputs": [],
   "source": [
    "train_data_arr = idx2numpy.convert_from_file(train_data)\n",
    "train_lables_arr=  idx2numpy.convert_from_file(train_labels)\n",
    "\n",
    "test_data_arr = idx2numpy.convert_from_file(test_data)\n",
    "test_lables_arr=  idx2numpy.convert_from_file(test_labels)"
   ]
  },
  {
   "cell_type": "code",
   "execution_count": 5,
   "id": "fc0e53ad",
   "metadata": {},
   "outputs": [
    {
     "name": "stdout",
     "output_type": "stream",
     "text": [
      "shape of training data is (60000, 28, 28)\n",
      "shape of testing data is (10000, 28, 28)\n"
     ]
    }
   ],
   "source": [
    "print(\"shape of training data is {}\".format(train_data_arr .shape))\n",
    "print(\"shape of testing data is {}\".format(test_data_arr .shape))"
   ]
  },
  {
   "cell_type": "code",
   "execution_count": 6,
   "id": "1d2edecd",
   "metadata": {},
   "outputs": [],
   "source": [
    "#reshaping the training data"
   ]
  },
  {
   "cell_type": "code",
   "execution_count": 7,
   "id": "b33db8e3",
   "metadata": {},
   "outputs": [],
   "source": [
    "train_data_arr_reshaped = train_data_arr.reshape((train_data_arr.shape[0],28,28,1))\n",
    "test_data_arr_reshaped = test_data_arr.reshape((test_data_arr.shape[0],28,28,1))"
   ]
  },
  {
   "cell_type": "code",
   "execution_count": 8,
   "id": "3eb7e863",
   "metadata": {},
   "outputs": [
    {
     "name": "stdout",
     "output_type": "stream",
     "text": [
      "reshape of training data is (60000, 28, 28, 1)\n",
      "reshape of testing data is (10000, 28, 28, 1)\n"
     ]
    }
   ],
   "source": [
    "print(\"reshape of training data is {}\".format(train_data_arr_reshaped.shape))\n",
    "print(\"reshape of testing data is {}\".format(test_data_arr_reshaped.shape))"
   ]
  },
  {
   "cell_type": "code",
   "execution_count": 9,
   "id": "4b94d827",
   "metadata": {},
   "outputs": [],
   "source": [
    "# one hot encode target values"
   ]
  },
  {
   "cell_type": "code",
   "execution_count": 10,
   "id": "5131ee0c",
   "metadata": {},
   "outputs": [
    {
     "name": "stdout",
     "output_type": "stream",
     "text": [
      "shape of training lebels is (60000,)\n",
      "shape of testing lables is (10000,)\n"
     ]
    }
   ],
   "source": [
    "print(\"shape of training lebels is {}\".format(train_lables_arr.shape))\n",
    "print(\"shape of testing lables is {}\".format(test_lables_arr.shape))"
   ]
  },
  {
   "cell_type": "code",
   "execution_count": 11,
   "id": "3e20358a",
   "metadata": {},
   "outputs": [],
   "source": [
    "train_lables_onehot = to_categorical(train_lables_arr)\n",
    "test_lables_onehot = to_categorical(test_lables_arr)"
   ]
  },
  {
   "cell_type": "code",
   "execution_count": 12,
   "id": "7885c0b1",
   "metadata": {},
   "outputs": [
    {
     "name": "stdout",
     "output_type": "stream",
     "text": [
      "onehot encoded  training lebels is (60000, 10)\n",
      "onehot encoded testing lables is (10000, 10)\n"
     ]
    }
   ],
   "source": [
    "print(\"onehot encoded  training lebels is {}\".format(train_lables_onehot.shape))\n",
    "print(\"onehot encoded testing lables is {}\".format(test_lables_onehot.shape))"
   ]
  },
  {
   "cell_type": "code",
   "execution_count": 13,
   "id": "a2f53661",
   "metadata": {},
   "outputs": [],
   "source": [
    "# preprocessing : scaling/normalizing images"
   ]
  },
  {
   "cell_type": "code",
   "execution_count": 14,
   "id": "253e30c2",
   "metadata": {},
   "outputs": [],
   "source": [
    "train_data_arr_reshaped_float=train_data_arr_reshaped.astype('float32')\n",
    "test_data_arr_reshaped_float=test_data_arr_reshaped.astype('float32')"
   ]
  },
  {
   "cell_type": "code",
   "execution_count": 25,
   "id": "d8e1fadf",
   "metadata": {},
   "outputs": [],
   "source": [
    "train_data_arr_reshaped_scaled=train_data_arr_reshaped_float/ 255\n",
    "test_data_arr_reshaped_scaled=test_data_arr_reshaped_float/ 255"
   ]
  },
  {
   "cell_type": "code",
   "execution_count": 16,
   "id": "e3707d67",
   "metadata": {},
   "outputs": [],
   "source": [
    "# defining model"
   ]
  },
  {
   "cell_type": "code",
   "execution_count": 17,
   "id": "4e5144fa",
   "metadata": {},
   "outputs": [],
   "source": [
    "model = Sequential()\n",
    "model.add(Conv2D(32,(3,3),activation='relu', kernel_initializer='he_uniform',input_shape= (28,28,1)))\n",
    "model.add(MaxPooling2D((2, 2)))\n",
    "model.add(Conv2D(64, (3, 3), activation='relu', kernel_initializer='he_uniform'))\n",
    "model.add(MaxPooling2D((2, 2)))\n",
    "model.add(Flatten())\n",
    "model.add(Dense(100, activation='relu', kernel_initializer='he_uniform'))\n",
    "model.add(BatchNormalization())\n",
    "model.add(Dense(10, activation='softmax'))"
   ]
  },
  {
   "cell_type": "code",
   "execution_count": 18,
   "id": "c93152dc",
   "metadata": {},
   "outputs": [
    {
     "name": "stdout",
     "output_type": "stream",
     "text": [
      "Model: \"sequential\"\n",
      "_________________________________________________________________\n",
      "Layer (type)                 Output Shape              Param #   \n",
      "=================================================================\n",
      "conv2d (Conv2D)              (None, 26, 26, 32)        320       \n",
      "_________________________________________________________________\n",
      "max_pooling2d (MaxPooling2D) (None, 13, 13, 32)        0         \n",
      "_________________________________________________________________\n",
      "conv2d_1 (Conv2D)            (None, 11, 11, 64)        18496     \n",
      "_________________________________________________________________\n",
      "max_pooling2d_1 (MaxPooling2 (None, 5, 5, 64)          0         \n",
      "_________________________________________________________________\n",
      "flatten (Flatten)            (None, 1600)              0         \n",
      "_________________________________________________________________\n",
      "dense (Dense)                (None, 100)               160100    \n",
      "_________________________________________________________________\n",
      "batch_normalization (BatchNo (None, 100)               400       \n",
      "_________________________________________________________________\n",
      "dense_1 (Dense)              (None, 10)                1010      \n",
      "=================================================================\n",
      "Total params: 180,326\n",
      "Trainable params: 180,126\n",
      "Non-trainable params: 200\n",
      "_________________________________________________________________\n"
     ]
    }
   ],
   "source": [
    "model.summary()"
   ]
  },
  {
   "cell_type": "code",
   "execution_count": 19,
   "id": "93cbcadb",
   "metadata": {},
   "outputs": [],
   "source": [
    "# compiling model"
   ]
  },
  {
   "cell_type": "code",
   "execution_count": 20,
   "id": "52b3fee5",
   "metadata": {},
   "outputs": [],
   "source": [
    "opt = SGD(lr=0.01, momentum=0.9)\n",
    "model.compile(optimizer=opt, loss='categorical_crossentropy', metrics=['accuracy'])"
   ]
  },
  {
   "cell_type": "code",
   "execution_count": 21,
   "id": "eb583d77",
   "metadata": {},
   "outputs": [],
   "source": [
    "# prepare cross validation\n",
    "kfold = KFold(5, shuffle=True, random_state=1)"
   ]
  },
  {
   "cell_type": "code",
   "execution_count": 27,
   "id": "f3809dc8",
   "metadata": {},
   "outputs": [],
   "source": [
    "scores, histories = list(), list()\n",
    "for train_ix, test_ix in kfold.split(train_data_arr_reshaped_scaled):\n",
    "    trainX, trainY, testX, testY = train_data_arr_reshaped_scaled[train_ix],train_lables_onehot[train_ix], train_data_arr_reshaped_scaled[test_ix],train_lables_onehot[test_ix]\n",
    "    history = model.fit(trainX, trainY, epochs=10, batch_size=32, validation_data=(testX, testY), verbose=0)\n",
    "    _, acc = model.evaluate(testX, testY, verbose=0)\n",
    "    scores.append(acc)\n",
    "    histories.append(history)"
   ]
  },
  {
   "cell_type": "code",
   "execution_count": 28,
   "id": "75a7a929",
   "metadata": {},
   "outputs": [
    {
     "data": {
      "text/plain": [
       "[0.9854999780654907, 0.9942499995231628, 0.999666690826416, 1.0, 1.0]"
      ]
     },
     "execution_count": 28,
     "metadata": {},
     "output_type": "execute_result"
    }
   ],
   "source": [
    "scores"
   ]
  },
  {
   "cell_type": "code",
   "execution_count": null,
   "id": "95c16574",
   "metadata": {},
   "outputs": [],
   "source": [
    "#  results"
   ]
  },
  {
   "cell_type": "code",
   "execution_count": 29,
   "id": "3535e7d0",
   "metadata": {},
   "outputs": [
    {
     "name": "stderr",
     "output_type": "stream",
     "text": [
      "<ipython-input-29-c0fd4d5b0dde>:3: MatplotlibDeprecationWarning: Adding an axes using the same arguments as a previous axes currently reuses the earlier instance.  In a future version, a new instance will always be created and returned.  Meanwhile, this warning can be suppressed, and the future behavior ensured, by passing a unique label to each axes instance.\n",
      "  plt.subplot(1, 1, 1)\n"
     ]
    },
    {
     "data": {
      "image/png": "[encoded data removed]",
      "text/plain": [
       "<Figure size 432x288 with 1 Axes>"
      ]
     },
     "metadata": {
      "needs_background": "light"
     },
     "output_type": "display_data"
    }
   ],
   "source": [
    "for i in range(len(histories)):\n",
    "    # plot accuracy\n",
    "    plt.subplot(1, 1, 1)\n",
    "    plt.title('Classification Accuracy')\n",
    "    plt.plot(histories[i].history['accuracy'], color='blue', label='train')\n",
    "    plt.plot(histories[i].history['val_accuracy'], color='orange', label='test')\n",
    "plt.show()"
   ]
  },
  {
   "cell_type": "code",
   "execution_count": 30,
   "id": "06cfa301",
   "metadata": {},
   "outputs": [],
   "source": [
    "model.save('final_model.h5')"
   ]
  },
  {
   "cell_type": "code",
   "execution_count": 31,
   "id": "b3a96c3f",
   "metadata": {},
   "outputs": [],
   "source": [
    "# model evaluation"
   ]
  },
  {
   "cell_type": "code",
   "execution_count": 32,
   "id": "04703c8f",
   "metadata": {},
   "outputs": [
    {
     "name": "stdout",
     "output_type": "stream",
     "text": [
      "> 100.000\n"
     ]
    }
   ],
   "source": [
    "_, acc = model.evaluate(testX, testY, verbose=0)\n",
    "print('> %.3f' % (acc * 100.0))"
   ]
  },
  {
   "cell_type": "code",
   "execution_count": 33,
   "id": "98b44519",
   "metadata": {},
   "outputs": [],
   "source": [
    "# prediction"
   ]
  },
  {
   "cell_type": "code",
   "execution_count": 34,
   "id": "ead9ef13",
   "metadata": {},
   "outputs": [],
   "source": [
    "sample=test_data_arr_reshaped_scaled[1000].reshape(1, 28, 28, 1)"
   ]
  },
  {
   "cell_type": "code",
   "execution_count": 35,
   "id": "9985911d",
   "metadata": {},
   "outputs": [
    {
     "name": "stdout",
     "output_type": "stream",
     "text": [
      "WARNING:tensorflow:From <ipython-input-35-9c7b31cb0ee8>:1: Sequential.predict_classes (from tensorflow.python.keras.engine.sequential) is deprecated and will be removed after 2021-01-01.\n",
      "Instructions for updating:\n",
      "Please use instead:* `np.argmax(model.predict(x), axis=-1)`,   if your model does multi-class classification   (e.g. if it uses a `softmax` last-layer activation).* `(model.predict(x) > 0.5).astype(\"int32\")`,   if your model does binary classification   (e.g. if it uses a `sigmoid` last-layer activation).\n"
     ]
    },
    {
     "data": {
      "text/plain": [
       "array([9], dtype=int64)"
      ]
     },
     "execution_count": 35,
     "metadata": {},
     "output_type": "execute_result"
    }
   ],
   "source": [
    "digit = model.predict_classes(sample)\n",
    "digit"
   ]
  },
  {
   "cell_type": "code",
   "execution_count": 36,
   "id": "7b5826aa",
   "metadata": {},
   "outputs": [
    {
     "data": {
      "text/plain": [
       "<matplotlib.image.AxesImage at 0x2617e5731c0>"
      ]
     },
     "execution_count": 36,
     "metadata": {},
     "output_type": "execute_result"
    },
    {
     "data": {
      "image/png": "[encoded data removed]",
      "text/plain": [
       "<Figure size 432x288 with 1 Axes>"
      ]
     },
     "metadata": {
      "needs_background": "light"
     },
     "output_type": "display_data"
    }
   ],
   "source": [
    "plt.imshow(test_data_arr_reshaped_scaled[1000])"
   ]
  },
  {
   "cell_type": "code",
   "execution_count": null,
   "id": "c4e2e69e",
   "metadata": {},
   "outputs": [],
   "source": []
  }
 ],
 "metadata": {
  "kernelspec": {
   "display_name": "Python 3",
   "language": "python",
   "name": "python3"
  },
  "language_info": {
   "codemirror_mode": {
    "name": "ipython",
    "version": 3
   },
   "file_extension": ".py",
   "mimetype": "text/x-python",
   "name": "python",
   "nbconvert_exporter": "python",
   "pygments_lexer": "ipython3",
   "version": "3.8.8"
  }
 },
 "nbformat": 4,
 "nbformat_minor": 5
}
